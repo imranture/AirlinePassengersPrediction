{
 "cells": [
  {
   "cell_type": "markdown",
   "metadata": {},
   "source": [
    "# Airline Passengers Prediction Using LSTM\n",
    "\n",
    "## Problem Description\n",
    "\n",
    "The data contains the number of international airline passengers for each month, ranges from January 1949 to December 1960 (12 years).\n",
    "\n",
    "The task is to predict the number of international airline passengers in units of 1,000.\n",
    "\n",
    "Data Source: https://raw.githubusercontent.com/jbrownlee/Datasets/master/airline-passengers.csv\n",
    "\n",
    "## Methodology\n",
    "\n",
    "The *Long Short-Term Memory Network* (known as *LSTM*), a powerful type of *Recurrent Neural Networks*, can address time series prediction problems in machine learning and achieve state-of-the-art results. A number of LSTMs for this problem is developed and compared using various approaches:\n",
    "1. Framing as a regression problem\n",
    "2. Using window method\n",
    "3. Using time steps"
   ]
  },
  {
   "cell_type": "markdown",
   "metadata": {},
   "source": [
    "### 1. Framing as a Regression Problem"
   ]
  },
  {
   "cell_type": "code",
   "execution_count": 1,
   "metadata": {},
   "outputs": [
    {
     "name": "stderr",
     "output_type": "stream",
     "text": [
      "Using TensorFlow backend.\n"
     ]
    }
   ],
   "source": [
    "# import libraries\n",
    "import numpy as np\n",
    "import pandas as pd\n",
    "import matplotlib.pyplot as plt\n",
    "from keras.models import Sequential\n",
    "from keras.layers import Dense\n",
    "from keras.layers import LSTM\n",
    "from sklearn.preprocessing import MinMaxScaler\n",
    "from sklearn.metrics import mean_squared_error"
   ]
  },
  {
   "cell_type": "code",
   "execution_count": 2,
   "metadata": {},
   "outputs": [],
   "source": [
    "# fix random seed for reproducibility\n",
    "seed = 13\n",
    "np.random.seed(seed)"
   ]
  },
  {
   "cell_type": "code",
   "execution_count": 3,
   "metadata": {},
   "outputs": [
    {
     "name": "stdout",
     "output_type": "stream",
     "text": [
      "(144, 1)\n"
     ]
    }
   ],
   "source": [
    "# load data\n",
    "url = 'https://raw.githubusercontent.com/imranture/datasets/master/airline-passengers.csv'\n",
    "data = pd.read_csv(url, header = 0, usecols = [1])\n",
    "print(data.shape)\n",
    "data.head(10)\n",
    "dataset = data.values"
   ]
  },
  {
   "cell_type": "code",
   "execution_count": 4,
   "metadata": {},
   "outputs": [
    {
     "data": {
      "image/png": "[encoded data removed]",
      "text/plain": [
       "<Figure size 432x288 with 1 Axes>"
      ]
     },
     "metadata": {
      "needs_background": "light"
     },
     "output_type": "display_data"
    }
   ],
   "source": [
    "# plot dataset\n",
    "plt.plot(dataset)\n",
    "plt.show();"
   ]
  },
  {
   "cell_type": "code",
   "execution_count": 5,
   "metadata": {
    "scrolled": true
   },
   "outputs": [
    {
     "name": "stderr",
     "output_type": "stream",
     "text": [
      "C:\\Users\\e93689\\AppData\\Roaming\\Python\\Python36\\site-packages\\sklearn\\utils\\validation.py:595: DataConversionWarning: Data with input dtype int64 was converted to float64 by MinMaxScaler.\n",
      "  warnings.warn(msg, DataConversionWarning)\n"
     ]
    }
   ],
   "source": [
    "# normalize dataset\n",
    "scaler = MinMaxScaler(feature_range = (0, 1))\n",
    "dataset_transformed = dataset.astype('float')\n",
    "dataset_transformed  = scaler.fit_transform(dataset_transformed)"
   ]
  },
  {
   "cell_type": "code",
   "execution_count": 6,
   "metadata": {},
   "outputs": [
    {
     "name": "stdout",
     "output_type": "stream",
     "text": [
      "96 48\n"
     ]
    }
   ],
   "source": [
    "# split into train and test sets\n",
    "train_size = int(len(dataset_transformed) * 0.67)\n",
    "test_size = len(dataset_transformed) - train_size\n",
    "train, test = dataset_transformed[0:train_size, :], dataset_transformed[train_size:len(dataset_transformed), :]\n",
    "print(len(train), len(test))"
   ]
  },
  {
   "cell_type": "code",
   "execution_count": 7,
   "metadata": {},
   "outputs": [],
   "source": [
    "# define a function to convert an array of values into a dataset matrix\n",
    "def create_matrix(array, look_back = 1):\n",
    "    t0, t1 = [], []\n",
    "    for i in range(len(array) - look_back - 1):\n",
    "        a = array[i:(i + look_back), 0]\n",
    "        t0.append(a)\n",
    "        t1.append(array[i + look_back, 0])\n",
    "    return np.array(t0), np.array(t1)"
   ]
  },
  {
   "cell_type": "code",
   "execution_count": 8,
   "metadata": {},
   "outputs": [],
   "source": [
    "# reshape into X=t and Y=t+1\n",
    "look_back = 1\n",
    "trainX, trainY = create_matrix(train, look_back)\n",
    "testX, testY = create_matrix(test, look_back)"
   ]
  },
  {
   "cell_type": "code",
   "execution_count": 9,
   "metadata": {},
   "outputs": [],
   "source": [
    "# reshape input to be [samples, time steps, features]\n",
    "trainX = np.reshape(trainX, (trainX.shape[0], 1, trainX.shape[1]))\n",
    "testX = np.reshape(testX, (testX.shape[0], 1, testX.shape[1]))"
   ]
  },
  {
   "cell_type": "code",
   "execution_count": 10,
   "metadata": {},
   "outputs": [
    {
     "name": "stderr",
     "output_type": "stream",
     "text": [
      "WARNING: Logging before flag parsing goes to stderr.\n",
      "W0121 13:26:13.867129 25832 module_wrapper.py:139] From C:\\Users\\e93689\\AppData\\Roaming\\Python\\Python36\\site-packages\\keras\\backend\\tensorflow_backend.py:74: The name tf.get_default_graph is deprecated. Please use tf.compat.v1.get_default_graph instead.\n",
      "\n",
      "W0121 13:26:13.881092 25832 module_wrapper.py:139] From C:\\Users\\e93689\\AppData\\Roaming\\Python\\Python36\\site-packages\\keras\\backend\\tensorflow_backend.py:517: The name tf.placeholder is deprecated. Please use tf.compat.v1.placeholder instead.\n",
      "\n",
      "W0121 13:26:13.884083 25832 module_wrapper.py:139] From C:\\Users\\e93689\\AppData\\Roaming\\Python\\Python36\\site-packages\\keras\\backend\\tensorflow_backend.py:4138: The name tf.random_uniform is deprecated. Please use tf.random.uniform instead.\n",
      "\n",
      "W0121 13:26:14.146383 25832 module_wrapper.py:139] From C:\\Users\\e93689\\AppData\\Roaming\\Python\\Python36\\site-packages\\keras\\optimizers.py:790: The name tf.train.Optimizer is deprecated. Please use tf.compat.v1.train.Optimizer instead.\n",
      "\n",
      "W0121 13:26:14.433433 25832 deprecation.py:323] From C:\\Users\\e93689\\AppData\\Roaming\\Python\\Python36\\site-packages\\tensorflow_core\\python\\ops\\math_grad.py:1424: where (from tensorflow.python.ops.array_ops) is deprecated and will be removed in a future version.\n",
      "Instructions for updating:\n",
      "Use tf.where in 2.0, which has the same broadcast rule as np.where\n",
      "W0121 13:26:15.014694 25832 module_wrapper.py:139] From C:\\Users\\e93689\\AppData\\Roaming\\Python\\Python36\\site-packages\\keras\\backend\\tensorflow_backend.py:986: The name tf.assign_add is deprecated. Please use tf.compat.v1.assign_add instead.\n",
      "\n",
      "W0121 13:26:15.132380 25832 module_wrapper.py:139] From C:\\Users\\e93689\\AppData\\Roaming\\Python\\Python36\\site-packages\\keras\\backend\\tensorflow_backend.py:973: The name tf.assign is deprecated. Please use tf.compat.v1.assign instead.\n",
      "\n",
      "W0121 13:26:15.271009 25832 module_wrapper.py:139] From C:\\Users\\e93689\\AppData\\Roaming\\Python\\Python36\\site-packages\\keras\\backend\\tensorflow_backend.py:2741: The name tf.Session is deprecated. Please use tf.compat.v1.Session instead.\n",
      "\n",
      "W0121 13:26:15.274997 25832 module_wrapper.py:139] From C:\\Users\\e93689\\AppData\\Roaming\\Python\\Python36\\site-packages\\keras\\backend\\tensorflow_backend.py:174: The name tf.get_default_session is deprecated. Please use tf.compat.v1.get_default_session instead.\n",
      "\n",
      "W0121 13:26:15.275995 25832 module_wrapper.py:139] From C:\\Users\\e93689\\AppData\\Roaming\\Python\\Python36\\site-packages\\keras\\backend\\tensorflow_backend.py:181: The name tf.ConfigProto is deprecated. Please use tf.compat.v1.ConfigProto instead.\n",
      "\n",
      "W0121 13:26:15.343814 25832 module_wrapper.py:139] From C:\\Users\\e93689\\AppData\\Roaming\\Python\\Python36\\site-packages\\keras\\backend\\tensorflow_backend.py:190: The name tf.global_variables is deprecated. Please use tf.compat.v1.global_variables instead.\n",
      "\n",
      "W0121 13:26:15.345809 25832 module_wrapper.py:139] From C:\\Users\\e93689\\AppData\\Roaming\\Python\\Python36\\site-packages\\keras\\backend\\tensorflow_backend.py:199: The name tf.is_variable_initialized is deprecated. Please use tf.compat.v1.is_variable_initialized instead.\n",
      "\n"
     ]
    },
    {
     "name": "stdout",
     "output_type": "stream",
     "text": [
      "Epoch 1/100\n"
     ]
    },
    {
     "name": "stderr",
     "output_type": "stream",
     "text": [
      "W0121 13:26:15.515355 25832 module_wrapper.py:139] From C:\\Users\\e93689\\AppData\\Roaming\\Python\\Python36\\site-packages\\keras\\backend\\tensorflow_backend.py:206: The name tf.variables_initializer is deprecated. Please use tf.compat.v1.variables_initializer instead.\n",
      "\n"
     ]
    },
    {
     "name": "stdout",
     "output_type": "stream",
     "text": [
      " - 1s - loss: 0.0364\n",
      "Epoch 2/100\n",
      " - 0s - loss: 0.0169\n",
      "Epoch 3/100\n",
      " - 0s - loss: 0.0133\n",
      "Epoch 4/100\n",
      " - 0s - loss: 0.0125\n",
      "Epoch 5/100\n",
      " - 0s - loss: 0.0115\n",
      "Epoch 6/100\n",
      " - 0s - loss: 0.0107\n",
      "Epoch 7/100\n",
      " - 0s - loss: 0.0098\n",
      "Epoch 8/100\n",
      " - 0s - loss: 0.0088\n",
      "Epoch 9/100\n",
      " - 0s - loss: 0.0079\n",
      "Epoch 10/100\n",
      " - 0s - loss: 0.0071\n",
      "Epoch 11/100\n",
      " - 0s - loss: 0.0062\n",
      "Epoch 12/100\n",
      " - 0s - loss: 0.0055\n",
      "Epoch 13/100\n",
      " - 0s - loss: 0.0048\n",
      "Epoch 14/100\n",
      " - 0s - loss: 0.0041\n",
      "Epoch 15/100\n",
      " - 0s - loss: 0.0036\n",
      "Epoch 16/100\n",
      " - 0s - loss: 0.0032\n",
      "Epoch 17/100\n",
      " - 0s - loss: 0.0029\n",
      "Epoch 18/100\n",
      " - 0s - loss: 0.0026\n",
      "Epoch 19/100\n",
      " - 0s - loss: 0.0024\n",
      "Epoch 20/100\n",
      " - 0s - loss: 0.0023\n",
      "Epoch 21/100\n",
      " - 0s - loss: 0.0022\n",
      "Epoch 22/100\n",
      " - 0s - loss: 0.0021\n",
      "Epoch 23/100\n",
      " - 0s - loss: 0.0021\n",
      "Epoch 24/100\n",
      " - 0s - loss: 0.0021\n",
      "Epoch 25/100\n",
      " - 0s - loss: 0.0020\n",
      "Epoch 26/100\n",
      " - 0s - loss: 0.0021\n",
      "Epoch 27/100\n",
      " - 0s - loss: 0.0021\n",
      "Epoch 28/100\n",
      " - 0s - loss: 0.0021\n",
      "Epoch 29/100\n",
      " - 0s - loss: 0.0021\n",
      "Epoch 30/100\n",
      " - 0s - loss: 0.0021\n",
      "Epoch 31/100\n",
      " - 0s - loss: 0.0021\n",
      "Epoch 32/100\n",
      " - 0s - loss: 0.0021\n",
      "Epoch 33/100\n",
      " - 0s - loss: 0.0021\n",
      "Epoch 34/100\n",
      " - 0s - loss: 0.0020\n",
      "Epoch 35/100\n",
      " - 0s - loss: 0.0020\n",
      "Epoch 36/100\n",
      " - 0s - loss: 0.0020\n",
      "Epoch 37/100\n",
      " - 0s - loss: 0.0021\n",
      "Epoch 38/100\n",
      " - 0s - loss: 0.0021\n",
      "Epoch 39/100\n",
      " - 0s - loss: 0.0021\n",
      "Epoch 40/100\n",
      " - 0s - loss: 0.0021\n",
      "Epoch 41/100\n",
      " - 0s - loss: 0.0021\n",
      "Epoch 42/100\n",
      " - 0s - loss: 0.0021\n",
      "Epoch 43/100\n",
      " - 0s - loss: 0.0021\n",
      "Epoch 44/100\n",
      " - 0s - loss: 0.0020\n",
      "Epoch 45/100\n",
      " - 0s - loss: 0.0021\n",
      "Epoch 46/100\n",
      " - 0s - loss: 0.0021\n",
      "Epoch 47/100\n",
      " - 0s - loss: 0.0021\n",
      "Epoch 48/100\n",
      " - 0s - loss: 0.0021\n",
      "Epoch 49/100\n",
      " - 0s - loss: 0.0021\n",
      "Epoch 50/100\n",
      " - 0s - loss: 0.0020\n",
      "Epoch 51/100\n",
      " - 0s - loss: 0.0020\n",
      "Epoch 52/100\n",
      " - 0s - loss: 0.0021\n",
      "Epoch 53/100\n",
      " - 0s - loss: 0.0021\n",
      "Epoch 54/100\n",
      " - 0s - loss: 0.0021\n",
      "Epoch 55/100\n",
      " - 0s - loss: 0.0020\n",
      "Epoch 56/100\n",
      " - 0s - loss: 0.0020\n",
      "Epoch 57/100\n",
      " - 0s - loss: 0.0020\n",
      "Epoch 58/100\n",
      " - 0s - loss: 0.0020\n",
      "Epoch 59/100\n",
      " - 0s - loss: 0.0020\n",
      "Epoch 60/100\n",
      " - 0s - loss: 0.0020\n",
      "Epoch 61/100\n",
      " - 0s - loss: 0.0021\n",
      "Epoch 62/100\n",
      " - 0s - loss: 0.0021\n",
      "Epoch 63/100\n",
      " - 0s - loss: 0.0021\n",
      "Epoch 64/100\n",
      " - 0s - loss: 0.0020\n",
      "Epoch 65/100\n",
      " - 0s - loss: 0.0020\n",
      "Epoch 66/100\n",
      " - 0s - loss: 0.0020\n",
      "Epoch 67/100\n",
      " - 0s - loss: 0.0021\n",
      "Epoch 68/100\n",
      " - 0s - loss: 0.0020\n",
      "Epoch 69/100\n",
      " - 0s - loss: 0.0020\n",
      "Epoch 70/100\n",
      " - 0s - loss: 0.0020\n",
      "Epoch 71/100\n",
      " - 0s - loss: 0.0020\n",
      "Epoch 72/100\n",
      " - 0s - loss: 0.0020\n",
      "Epoch 73/100\n",
      " - 0s - loss: 0.0020\n",
      "Epoch 74/100\n",
      " - 0s - loss: 0.0022\n",
      "Epoch 75/100\n",
      " - 0s - loss: 0.0020\n",
      "Epoch 76/100\n",
      " - 0s - loss: 0.0020\n",
      "Epoch 77/100\n",
      " - 0s - loss: 0.0021\n",
      "Epoch 78/100\n",
      " - 0s - loss: 0.0021\n",
      "Epoch 79/100\n",
      " - 0s - loss: 0.0020\n",
      "Epoch 80/100\n",
      " - 0s - loss: 0.0021\n",
      "Epoch 81/100\n",
      " - 1s - loss: 0.0020\n",
      "Epoch 82/100\n",
      " - 0s - loss: 0.0021\n",
      "Epoch 83/100\n",
      " - 0s - loss: 0.0020\n",
      "Epoch 84/100\n",
      " - 0s - loss: 0.0021\n",
      "Epoch 85/100\n",
      " - 0s - loss: 0.0020\n",
      "Epoch 86/100\n",
      " - 0s - loss: 0.0021\n",
      "Epoch 87/100\n",
      " - 0s - loss: 0.0021\n",
      "Epoch 88/100\n",
      " - 0s - loss: 0.0021\n",
      "Epoch 89/100\n",
      " - 0s - loss: 0.0021\n",
      "Epoch 90/100\n",
      " - 0s - loss: 0.0021\n",
      "Epoch 91/100\n",
      " - 0s - loss: 0.0021\n",
      "Epoch 92/100\n",
      " - 1s - loss: 0.0020\n",
      "Epoch 93/100\n",
      " - 1s - loss: 0.0021\n",
      "Epoch 94/100\n",
      " - 0s - loss: 0.0020\n",
      "Epoch 95/100\n",
      " - 0s - loss: 0.0021\n",
      "Epoch 96/100\n",
      " - 0s - loss: 0.0020\n",
      "Epoch 97/100\n",
      " - 0s - loss: 0.0020\n",
      "Epoch 98/100\n",
      " - 0s - loss: 0.0020\n",
      "Epoch 99/100\n",
      " - 0s - loss: 0.0020\n",
      "Epoch 100/100\n",
      " - 0s - loss: 0.0020\n"
     ]
    },
    {
     "data": {
      "text/plain": [
       "<keras.callbacks.History at 0x20b5e52fb00>"
      ]
     },
     "execution_count": 10,
     "metadata": {},
     "output_type": "execute_result"
    }
   ],
   "source": [
    "# create and fit LSTM network\n",
    "model = Sequential()\n",
    "model.add(LSTM(4, input_shape = (1, look_back)))\n",
    "model.add(Dense(1))\n",
    "model.compile(loss = 'mean_squared_error', optimizer = 'adam')\n",
    "model.fit(trainX, trainY, epochs = 100, batch_size = 1, verbose = 2)"
   ]
  },
  {
   "cell_type": "code",
   "execution_count": 11,
   "metadata": {},
   "outputs": [],
   "source": [
    "# make predictions\n",
    "trainPredict = model.predict(trainX)\n",
    "testPredict = model.predict(testX)"
   ]
  },
  {
   "cell_type": "code",
   "execution_count": 12,
   "metadata": {},
   "outputs": [],
   "source": [
    "# invert scaling\n",
    "trainY = scaler.inverse_transform([trainY])\n",
    "testY = scaler.inverse_transform([testY])\n",
    "trainPredict = scaler.inverse_transform(trainPredict)\n",
    "testPredict = scaler.inverse_transform(testPredict)"
   ]
  },
  {
   "cell_type": "code",
   "execution_count": 13,
   "metadata": {},
   "outputs": [
    {
     "name": "stdout",
     "output_type": "stream",
     "text": [
      "Train Score: 23.11360981646912 RMSE\n",
      "Test Score: 47.43927745299061 RMSE\n"
     ]
    }
   ],
   "source": [
    "# estimate model performance\n",
    "trainScore = np.sqrt(mean_squared_error(trainY[0], trainPredict[:, 0]))\n",
    "testScore = np.sqrt(mean_squared_error(testY[0], testPredict[:, 0]))\n",
    "print(f'Train Score: {trainScore} RMSE')\n",
    "print(f'Test Score: {testScore} RMSE')"
   ]
  },
  {
   "cell_type": "markdown",
   "metadata": {},
   "source": [
    "The model has an average error of `23` passengers (in thousands) on the training dataset and `47` passengers (in thousands) on the test dataset."
   ]
  },
  {
   "cell_type": "code",
   "execution_count": 14,
   "metadata": {},
   "outputs": [
    {
     "data": {
      "image/png": "[encoded data removed]",
      "text/plain": [
       "<Figure size 432x288 with 1 Axes>"
      ]
     },
     "metadata": {
      "needs_background": "light"
     },
     "output_type": "display_data"
    }
   ],
   "source": [
    "# shift train predictions for plotting\n",
    "trainPredictPlot = np.zeros_like(dataset)\n",
    "trainPredictPlot[look_back:len(trainPredict) + look_back, :] = trainPredict\n",
    "trainPredictPlot = trainPredictPlot.astype('float')\n",
    "trainPredictPlot[trainPredictPlot == 0] = np.nan\n",
    "\n",
    "# shift test predictions for plotting\n",
    "testPredictPlot = np.zeros_like(dataset)\n",
    "testPredictPlot[len(trainPredict) + (look_back * 2) + 1:len(dataset) - 1, :] = testPredict\n",
    "testPredictPlot = testPredictPlot.astype('float')\n",
    "testPredictPlot[testPredictPlot == 0] = np.nan\n",
    "\n",
    "# plot baseline and predictions\n",
    "plt.plot(dataset)\n",
    "plt.plot(trainPredictPlot)\n",
    "plt.plot(testPredictPlot)\n",
    "plt.show()"
   ]
  },
  {
   "cell_type": "markdown",
   "metadata": {},
   "source": [
    "### 2. Using Window Method\n",
    "Recent multiple time steps can be used to make the prediction for the next time step, instead using the very recent time step only. This is known as a *window method* and the size of the window is a parameter that can be tuned for each problem. For example, given the current time (t) we want to predict the value at the next time in the sequence (t+1), we can use the current time (t) as well as the two prior times (t-1 and t-2) as input variables. When phrased as a regression problem the input variables are t-2, t-1, t and the output variable is t+1."
   ]
  },
  {
   "cell_type": "markdown",
   "metadata": {},
   "source": [
    "Let's increase the size of window from 1 to `3`."
   ]
  },
  {
   "cell_type": "code",
   "execution_count": 15,
   "metadata": {},
   "outputs": [],
   "source": [
    "# reshape into X=t and Y=t+1\n",
    "look_back = 3\n",
    "trainX, trainY = create_matrix(train, look_back)\n",
    "testX, testY = create_matrix(test, look_back)"
   ]
  },
  {
   "cell_type": "markdown",
   "metadata": {},
   "source": [
    "A sample of the dataset with this formulation looks as follows:"
   ]
  },
  {
   "cell_type": "code",
   "execution_count": 16,
   "metadata": {},
   "outputs": [],
   "source": [
    "# reshape input to be [samples, time steps, features]\n",
    "trainX = np.reshape(trainX, (trainX.shape[0], 1, trainX.shape[1]))\n",
    "testX = np.reshape(testX, (testX.shape[0], 1, testX.shape[1]))"
   ]
  },
  {
   "cell_type": "code",
   "execution_count": 17,
   "metadata": {},
   "outputs": [
    {
     "name": "stdout",
     "output_type": "stream",
     "text": [
      "Epoch 1/100\n",
      " - 2s - loss: 0.0631\n",
      "Epoch 2/100\n",
      " - 0s - loss: 0.0288\n",
      "Epoch 3/100\n",
      " - 0s - loss: 0.0193\n",
      "Epoch 4/100\n",
      " - 0s - loss: 0.0167\n",
      "Epoch 5/100\n",
      " - 0s - loss: 0.0151\n",
      "Epoch 6/100\n",
      " - 0s - loss: 0.0137\n",
      "Epoch 7/100\n",
      " - 0s - loss: 0.0126\n",
      "Epoch 8/100\n",
      " - 0s - loss: 0.0113\n",
      "Epoch 9/100\n",
      " - 0s - loss: 0.0100\n",
      "Epoch 10/100\n",
      " - 0s - loss: 0.0091\n",
      "Epoch 11/100\n",
      " - 0s - loss: 0.0082\n",
      "Epoch 12/100\n",
      " - 0s - loss: 0.0075\n",
      "Epoch 13/100\n",
      " - 0s - loss: 0.0069\n",
      "Epoch 14/100\n",
      " - 0s - loss: 0.0064\n",
      "Epoch 15/100\n",
      " - 0s - loss: 0.0060\n",
      "Epoch 16/100\n",
      " - 0s - loss: 0.0057\n",
      "Epoch 17/100\n",
      " - 0s - loss: 0.0056\n",
      "Epoch 18/100\n",
      " - 0s - loss: 0.0053\n",
      "Epoch 19/100\n",
      " - 0s - loss: 0.0054\n",
      "Epoch 20/100\n",
      " - 0s - loss: 0.0052\n",
      "Epoch 21/100\n",
      " - 0s - loss: 0.0051\n",
      "Epoch 22/100\n",
      " - 0s - loss: 0.0050\n",
      "Epoch 23/100\n",
      " - 0s - loss: 0.0049\n",
      "Epoch 24/100\n",
      " - 0s - loss: 0.0049\n",
      "Epoch 25/100\n",
      " - 0s - loss: 0.0047\n",
      "Epoch 26/100\n",
      " - 0s - loss: 0.0047\n",
      "Epoch 27/100\n",
      " - 0s - loss: 0.0047\n",
      "Epoch 28/100\n",
      " - 0s - loss: 0.0046\n",
      "Epoch 29/100\n",
      " - 0s - loss: 0.0045\n",
      "Epoch 30/100\n",
      " - 0s - loss: 0.0044\n",
      "Epoch 31/100\n",
      " - 0s - loss: 0.0045\n",
      "Epoch 32/100\n",
      " - 0s - loss: 0.0044\n",
      "Epoch 33/100\n",
      " - 0s - loss: 0.0044\n",
      "Epoch 34/100\n",
      " - 0s - loss: 0.0043\n",
      "Epoch 35/100\n",
      " - 0s - loss: 0.0042\n",
      "Epoch 36/100\n",
      " - 0s - loss: 0.0041\n",
      "Epoch 37/100\n",
      " - 0s - loss: 0.0042\n",
      "Epoch 38/100\n",
      " - 0s - loss: 0.0041\n",
      "Epoch 39/100\n",
      " - 0s - loss: 0.0041\n",
      "Epoch 40/100\n",
      " - 0s - loss: 0.0041\n",
      "Epoch 41/100\n",
      " - 0s - loss: 0.0040\n",
      "Epoch 42/100\n",
      " - 0s - loss: 0.0039\n",
      "Epoch 43/100\n",
      " - 0s - loss: 0.0039\n",
      "Epoch 44/100\n",
      " - 0s - loss: 0.0039\n",
      "Epoch 45/100\n",
      " - 0s - loss: 0.0039\n",
      "Epoch 46/100\n",
      " - 0s - loss: 0.0038\n",
      "Epoch 47/100\n",
      " - 0s - loss: 0.0037\n",
      "Epoch 48/100\n",
      " - 0s - loss: 0.0037\n",
      "Epoch 49/100\n",
      " - 0s - loss: 0.0038\n",
      "Epoch 50/100\n",
      " - 0s - loss: 0.0036\n",
      "Epoch 51/100\n",
      " - 0s - loss: 0.0036\n",
      "Epoch 52/100\n",
      " - 0s - loss: 0.0037\n",
      "Epoch 53/100\n",
      " - 0s - loss: 0.0035\n",
      "Epoch 54/100\n",
      " - 0s - loss: 0.0035\n",
      "Epoch 55/100\n",
      " - 0s - loss: 0.0036\n",
      "Epoch 56/100\n",
      " - 1s - loss: 0.0035\n",
      "Epoch 57/100\n",
      " - 0s - loss: 0.0034\n",
      "Epoch 58/100\n",
      " - 0s - loss: 0.0034\n",
      "Epoch 59/100\n",
      " - 0s - loss: 0.0034\n",
      "Epoch 60/100\n",
      " - 0s - loss: 0.0033\n",
      "Epoch 61/100\n",
      " - 0s - loss: 0.0034\n",
      "Epoch 62/100\n",
      " - 0s - loss: 0.0033\n",
      "Epoch 63/100\n",
      " - 0s - loss: 0.0033\n",
      "Epoch 64/100\n",
      " - 0s - loss: 0.0032\n",
      "Epoch 65/100\n",
      " - 0s - loss: 0.0031\n",
      "Epoch 66/100\n",
      " - 0s - loss: 0.0031\n",
      "Epoch 67/100\n",
      " - 0s - loss: 0.0031\n",
      "Epoch 68/100\n",
      " - 0s - loss: 0.0031\n",
      "Epoch 69/100\n",
      " - 0s - loss: 0.0031\n",
      "Epoch 70/100\n",
      " - 0s - loss: 0.0030\n",
      "Epoch 71/100\n",
      " - 0s - loss: 0.0030\n",
      "Epoch 72/100\n",
      " - 0s - loss: 0.0029\n",
      "Epoch 73/100\n",
      " - 0s - loss: 0.0029\n",
      "Epoch 74/100\n",
      " - 0s - loss: 0.0028\n",
      "Epoch 75/100\n",
      " - 0s - loss: 0.0028\n",
      "Epoch 76/100\n",
      " - 0s - loss: 0.0028\n",
      "Epoch 77/100\n",
      " - 0s - loss: 0.0027\n",
      "Epoch 78/100\n",
      " - 0s - loss: 0.0028\n",
      "Epoch 79/100\n",
      " - 0s - loss: 0.0027\n",
      "Epoch 80/100\n",
      " - 0s - loss: 0.0026\n",
      "Epoch 81/100\n",
      " - 0s - loss: 0.0028\n",
      "Epoch 82/100\n",
      " - 0s - loss: 0.0026\n",
      "Epoch 83/100\n",
      " - 1s - loss: 0.0026\n",
      "Epoch 84/100\n",
      " - 0s - loss: 0.0026\n",
      "Epoch 85/100\n",
      " - 1s - loss: 0.0025\n",
      "Epoch 86/100\n",
      " - 0s - loss: 0.0025\n",
      "Epoch 87/100\n",
      " - 1s - loss: 0.0024\n",
      "Epoch 88/100\n",
      " - 1s - loss: 0.0024\n",
      "Epoch 89/100\n",
      " - 0s - loss: 0.0026\n",
      "Epoch 90/100\n",
      " - 0s - loss: 0.0025\n",
      "Epoch 91/100\n",
      " - 0s - loss: 0.0023\n",
      "Epoch 92/100\n",
      " - 0s - loss: 0.0024\n",
      "Epoch 93/100\n",
      " - 0s - loss: 0.0022\n",
      "Epoch 94/100\n",
      " - 0s - loss: 0.0023\n",
      "Epoch 95/100\n",
      " - 0s - loss: 0.0023\n",
      "Epoch 96/100\n",
      " - 1s - loss: 0.0022\n",
      "Epoch 97/100\n",
      " - 0s - loss: 0.0022\n",
      "Epoch 98/100\n",
      " - 0s - loss: 0.0021\n",
      "Epoch 99/100\n",
      " - 0s - loss: 0.0021\n",
      "Epoch 100/100\n",
      " - 0s - loss: 0.0021\n"
     ]
    },
    {
     "data": {
      "text/plain": [
       "<keras.callbacks.History at 0x20b617eda90>"
      ]
     },
     "execution_count": 17,
     "metadata": {},
     "output_type": "execute_result"
    }
   ],
   "source": [
    "# create and fit LSTM network\n",
    "model = Sequential()\n",
    "model.add(LSTM(4, input_shape = (1, look_back)))\n",
    "model.add(Dense(1))\n",
    "model.compile(loss = 'mean_squared_error', optimizer = 'adam')\n",
    "model.fit(trainX, trainY, epochs = 100, batch_size = 1, verbose = 2)"
   ]
  },
  {
   "cell_type": "code",
   "execution_count": 18,
   "metadata": {},
   "outputs": [],
   "source": [
    "# make predictions\n",
    "trainPredict = model.predict(trainX)\n",
    "testPredict = model.predict(testX)"
   ]
  },
  {
   "cell_type": "code",
   "execution_count": 19,
   "metadata": {},
   "outputs": [],
   "source": [
    "# invert scaling\n",
    "trainY = scaler.inverse_transform([trainY])\n",
    "testY = scaler.inverse_transform([testY])\n",
    "trainPredict = scaler.inverse_transform(trainPredict)\n",
    "testPredict = scaler.inverse_transform(testPredict)"
   ]
  },
  {
   "cell_type": "code",
   "execution_count": 20,
   "metadata": {},
   "outputs": [
    {
     "name": "stdout",
     "output_type": "stream",
     "text": [
      "Train Score: 23.498048894904635 RMSE\n",
      "Test Score: 66.57249495608873 RMSE\n"
     ]
    }
   ],
   "source": [
    "# estimate model performance\n",
    "trainScore = np.sqrt(mean_squared_error(trainY[0], trainPredict[:, 0]))\n",
    "testScore = np.sqrt(mean_squared_error(testY[0], testPredict[:, 0]))\n",
    "print(f'Train Score: {trainScore} RMSE')\n",
    "print(f'Test Score: {testScore} RMSE')"
   ]
  },
  {
   "cell_type": "markdown",
   "metadata": {},
   "source": [
    "The model has an average error of `24` passengers (in thousands) on the training dataset and `67` passengers (in thousands) on the test dataset."
   ]
  },
  {
   "cell_type": "code",
   "execution_count": 21,
   "metadata": {},
   "outputs": [
    {
     "data": {
      "image/png": "[encoded data removed]",
      "text/plain": [
       "<Figure size 432x288 with 1 Axes>"
      ]
     },
     "metadata": {
      "needs_background": "light"
     },
     "output_type": "display_data"
    }
   ],
   "source": [
    "# shift train predictions for plotting\n",
    "trainPredictPlot = np.zeros_like(dataset)\n",
    "trainPredictPlot[look_back:len(trainPredict) + look_back, :] = trainPredict\n",
    "trainPredictPlot = trainPredictPlot.astype('float')\n",
    "trainPredictPlot[trainPredictPlot == 0] = np.nan\n",
    "\n",
    "# shift test predictions for plotting\n",
    "testPredictPlot = np.zeros_like(dataset)\n",
    "testPredictPlot[len(trainPredict) + (look_back * 2) + 1:len(dataset) - 1, :] = testPredict\n",
    "testPredictPlot = testPredictPlot.astype('float')\n",
    "testPredictPlot[testPredictPlot == 0] = np.nan\n",
    "\n",
    "# plot baseline and predictions\n",
    "plt.plot(dataset)\n",
    "plt.plot(trainPredictPlot)\n",
    "plt.plot(testPredictPlot)\n",
    "plt.show()"
   ]
  },
  {
   "cell_type": "markdown",
   "metadata": {},
   "source": [
    "### 3. Using Time Steps\n",
    "Instead of phrasing the past observations as separate input features, we can use them as time steps of the one input feature. This is indeed a more accurate way to frame such time series prediction problem, compared to the window method."
   ]
  },
  {
   "cell_type": "code",
   "execution_count": 22,
   "metadata": {},
   "outputs": [],
   "source": [
    "# reshape into X=t and Y=t+1\n",
    "look_back = 3\n",
    "trainX, trainY = create_matrix(train, look_back)\n",
    "testX, testY = create_matrix(test, look_back)\n",
    "\n",
    "# reshape input to be [samples, time steps, features]\n",
    "trainX = np.reshape(trainX, (trainX.shape[0], trainX.shape[1], 1))\n",
    "testX = np.reshape(testX, (testX.shape[0], testX.shape[1], 1))"
   ]
  },
  {
   "cell_type": "code",
   "execution_count": 23,
   "metadata": {},
   "outputs": [
    {
     "name": "stdout",
     "output_type": "stream",
     "text": [
      "Epoch 1/100\n",
      " - 4s - loss: 0.0514\n",
      "Epoch 2/100\n",
      " - 1s - loss: 0.0211\n",
      "Epoch 3/100\n",
      " - 1s - loss: 0.0178\n",
      "Epoch 4/100\n",
      " - 1s - loss: 0.0162\n",
      "Epoch 5/100\n",
      " - 1s - loss: 0.0148\n",
      "Epoch 6/100\n",
      " - 1s - loss: 0.0131\n",
      "Epoch 7/100\n",
      " - 1s - loss: 0.0118\n",
      "Epoch 8/100\n",
      " - 1s - loss: 0.0104\n",
      "Epoch 9/100\n",
      " - 1s - loss: 0.0091\n",
      "Epoch 10/100\n",
      " - 1s - loss: 0.0081\n",
      "Epoch 11/100\n",
      " - 1s - loss: 0.0070\n",
      "Epoch 12/100\n",
      " - 1s - loss: 0.0062\n",
      "Epoch 13/100\n",
      " - 1s - loss: 0.0057\n",
      "Epoch 14/100\n",
      " - 1s - loss: 0.0050\n",
      "Epoch 15/100\n",
      " - 1s - loss: 0.0047\n",
      "Epoch 16/100\n",
      " - 1s - loss: 0.0046\n",
      "Epoch 17/100\n",
      " - 1s - loss: 0.0044\n",
      "Epoch 18/100\n",
      " - 1s - loss: 0.0044\n",
      "Epoch 19/100\n",
      " - 1s - loss: 0.0044\n",
      "Epoch 20/100\n",
      " - 0s - loss: 0.0045\n",
      "Epoch 21/100\n",
      " - 1s - loss: 0.0042\n",
      "Epoch 22/100\n",
      " - 1s - loss: 0.0042\n",
      "Epoch 23/100\n",
      " - 1s - loss: 0.0042\n",
      "Epoch 24/100\n",
      " - 1s - loss: 0.0041\n",
      "Epoch 25/100\n",
      " - 1s - loss: 0.0041\n",
      "Epoch 26/100\n",
      " - 1s - loss: 0.0040\n",
      "Epoch 27/100\n",
      " - 1s - loss: 0.0042\n",
      "Epoch 28/100\n",
      " - 0s - loss: 0.0041\n",
      "Epoch 29/100\n",
      " - 0s - loss: 0.0039\n",
      "Epoch 30/100\n",
      " - 1s - loss: 0.0042\n",
      "Epoch 31/100\n",
      " - 1s - loss: 0.0041\n",
      "Epoch 32/100\n",
      " - 1s - loss: 0.0039\n",
      "Epoch 33/100\n",
      " - 1s - loss: 0.0041\n",
      "Epoch 34/100\n",
      " - 0s - loss: 0.0041\n",
      "Epoch 35/100\n",
      " - 1s - loss: 0.0041\n",
      "Epoch 36/100\n",
      " - 1s - loss: 0.0039\n",
      "Epoch 37/100\n",
      " - 1s - loss: 0.0040\n",
      "Epoch 38/100\n",
      " - 1s - loss: 0.0039\n",
      "Epoch 39/100\n",
      " - 1s - loss: 0.0040\n",
      "Epoch 40/100\n",
      " - 1s - loss: 0.0039\n",
      "Epoch 41/100\n",
      " - 1s - loss: 0.0038\n",
      "Epoch 42/100\n",
      " - 1s - loss: 0.0041\n",
      "Epoch 43/100\n",
      " - 1s - loss: 0.0038\n",
      "Epoch 44/100\n",
      " - 1s - loss: 0.0038\n",
      "Epoch 45/100\n",
      " - 0s - loss: 0.0040\n",
      "Epoch 46/100\n",
      " - 0s - loss: 0.0037\n",
      "Epoch 47/100\n",
      " - 1s - loss: 0.0038\n",
      "Epoch 48/100\n",
      " - 0s - loss: 0.0040\n",
      "Epoch 49/100\n",
      " - 0s - loss: 0.0038\n",
      "Epoch 50/100\n",
      " - 0s - loss: 0.0037\n",
      "Epoch 51/100\n",
      " - 0s - loss: 0.0038\n",
      "Epoch 52/100\n",
      " - 1s - loss: 0.0038\n",
      "Epoch 53/100\n",
      " - 1s - loss: 0.0038\n",
      "Epoch 54/100\n",
      " - 1s - loss: 0.0036\n",
      "Epoch 55/100\n",
      " - 1s - loss: 0.0037\n",
      "Epoch 56/100\n",
      " - 1s - loss: 0.0037\n",
      "Epoch 57/100\n",
      " - 1s - loss: 0.0037\n",
      "Epoch 58/100\n",
      " - 1s - loss: 0.0038\n",
      "Epoch 59/100\n",
      " - 0s - loss: 0.0037\n",
      "Epoch 60/100\n",
      " - 1s - loss: 0.0037\n",
      "Epoch 61/100\n",
      " - 1s - loss: 0.0036\n",
      "Epoch 62/100\n",
      " - 1s - loss: 0.0037\n",
      "Epoch 63/100\n",
      " - 0s - loss: 0.0037\n",
      "Epoch 64/100\n",
      " - 1s - loss: 0.0034\n",
      "Epoch 65/100\n",
      " - 1s - loss: 0.0037\n",
      "Epoch 66/100\n",
      " - 1s - loss: 0.0035\n",
      "Epoch 67/100\n",
      " - 1s - loss: 0.0035\n",
      "Epoch 68/100\n",
      " - 1s - loss: 0.0035\n",
      "Epoch 69/100\n",
      " - 1s - loss: 0.0035\n",
      "Epoch 70/100\n",
      " - 1s - loss: 0.0035\n",
      "Epoch 71/100\n",
      " - 1s - loss: 0.0035\n",
      "Epoch 72/100\n",
      " - 1s - loss: 0.0034\n",
      "Epoch 73/100\n",
      " - 1s - loss: 0.0035\n",
      "Epoch 74/100\n",
      " - 1s - loss: 0.0035\n",
      "Epoch 75/100\n",
      " - 1s - loss: 0.0034\n",
      "Epoch 76/100\n",
      " - 1s - loss: 0.0034\n",
      "Epoch 77/100\n",
      " - 1s - loss: 0.0034\n",
      "Epoch 78/100\n",
      " - 1s - loss: 0.0034\n",
      "Epoch 79/100\n",
      " - 1s - loss: 0.0033\n",
      "Epoch 80/100\n",
      " - 0s - loss: 0.0033\n",
      "Epoch 81/100\n",
      " - 1s - loss: 0.0032\n",
      "Epoch 82/100\n",
      " - 0s - loss: 0.0033\n",
      "Epoch 83/100\n",
      " - 1s - loss: 0.0031\n",
      "Epoch 84/100\n",
      " - 1s - loss: 0.0031\n",
      "Epoch 85/100\n",
      " - 1s - loss: 0.0032\n",
      "Epoch 86/100\n",
      " - 1s - loss: 0.0032\n",
      "Epoch 87/100\n",
      " - 1s - loss: 0.0032\n",
      "Epoch 88/100\n",
      " - 1s - loss: 0.0030\n",
      "Epoch 89/100\n",
      " - 0s - loss: 0.0030\n",
      "Epoch 90/100\n",
      " - 1s - loss: 0.0031\n",
      "Epoch 91/100\n",
      " - 1s - loss: 0.0030\n",
      "Epoch 92/100\n",
      " - 1s - loss: 0.0030\n",
      "Epoch 93/100\n",
      " - 1s - loss: 0.0029\n",
      "Epoch 94/100\n",
      " - 1s - loss: 0.0030\n",
      "Epoch 95/100\n",
      " - 1s - loss: 0.0029\n",
      "Epoch 96/100\n",
      " - 0s - loss: 0.0029\n",
      "Epoch 97/100\n",
      " - 1s - loss: 0.0028\n",
      "Epoch 98/100\n",
      " - 1s - loss: 0.0028\n",
      "Epoch 99/100\n",
      " - 1s - loss: 0.0029\n",
      "Epoch 100/100\n",
      " - 1s - loss: 0.0029\n"
     ]
    },
    {
     "data": {
      "text/plain": [
       "<keras.callbacks.History at 0x20b63b5fdd8>"
      ]
     },
     "execution_count": 23,
     "metadata": {},
     "output_type": "execute_result"
    }
   ],
   "source": [
    "# create and fit LSTM network\n",
    "model = Sequential()\n",
    "model.add(LSTM(4, input_shape = (look_back, 1)))\n",
    "model.add(Dense(1))\n",
    "model.compile(loss = 'mean_squared_error', optimizer = 'adam')\n",
    "model.fit(trainX, trainY, epochs = 100, batch_size = 1, verbose = 2)"
   ]
  },
  {
   "cell_type": "code",
   "execution_count": 24,
   "metadata": {},
   "outputs": [],
   "source": [
    "# make predictions\n",
    "trainPredict = model.predict(trainX)\n",
    "testPredict = model.predict(testX)"
   ]
  },
  {
   "cell_type": "code",
   "execution_count": 25,
   "metadata": {},
   "outputs": [],
   "source": [
    "# invert scaling\n",
    "trainY = scaler.inverse_transform([trainY])\n",
    "testY = scaler.inverse_transform([testY])\n",
    "trainPredict = scaler.inverse_transform(trainPredict)\n",
    "testPredict = scaler.inverse_transform(testPredict)"
   ]
  },
  {
   "cell_type": "code",
   "execution_count": 26,
   "metadata": {},
   "outputs": [
    {
     "name": "stdout",
     "output_type": "stream",
     "text": [
      "Train Score: 26.992812000529263 RMSE\n",
      "Test Score: 55.51336568571592 RMSE\n"
     ]
    }
   ],
   "source": [
    "# estimate model performance\n",
    "trainScore = np.sqrt(mean_squared_error(trainY[0], trainPredict[:, 0]))\n",
    "testScore = np.sqrt(mean_squared_error(testY[0], testPredict[:, 0]))\n",
    "print(f'Train Score: {trainScore} RMSE')\n",
    "print(f'Test Score: {testScore} RMSE')"
   ]
  },
  {
   "cell_type": "markdown",
   "metadata": {},
   "source": [
    "The model has an average error of `27` passengers (in thousands) on the training dataset and `56` passengers (in thousands) on the test dataset."
   ]
  },
  {
   "cell_type": "code",
   "execution_count": 27,
   "metadata": {
    "scrolled": true
   },
   "outputs": [
    {
     "data": {
      "image/png": "[encoded data removed]",
      "text/plain": [
       "<Figure size 432x288 with 1 Axes>"
      ]
     },
     "metadata": {
      "needs_background": "light"
     },
     "output_type": "display_data"
    }
   ],
   "source": [
    "# shift train predictions for plotting\n",
    "trainPredictPlot = np.zeros_like(dataset)\n",
    "trainPredictPlot[look_back:len(trainPredict) + look_back, :] = trainPredict\n",
    "trainPredictPlot = trainPredictPlot.astype('float')\n",
    "trainPredictPlot[trainPredictPlot == 0] = np.nan\n",
    "\n",
    "# shift test predictions for plotting\n",
    "testPredictPlot = np.zeros_like(dataset)\n",
    "testPredictPlot[len(trainPredict) + (look_back * 2) + 1:len(dataset) - 1, :] = testPredict\n",
    "testPredictPlot = testPredictPlot.astype('float')\n",
    "testPredictPlot[testPredictPlot == 0] = np.nan\n",
    "\n",
    "# plot baseline and predictions\n",
    "plt.plot(dataset)\n",
    "plt.plot(trainPredictPlot)\n",
    "plt.plot(testPredictPlot)\n",
    "plt.show()"
   ]
  },
  {
   "cell_type": "markdown",
   "metadata": {},
   "source": [
    "## Reference\n",
    "\n",
    "Brownlee J. 2018. Deep Learning with Python. v1.14"
   ]
  }
 ],
 "metadata": {
  "kernelspec": {
   "display_name": "Python 3",
   "language": "python",
   "name": "python3"
  },
  "language_info": {
   "codemirror_mode": {
    "name": "ipython",
    "version": 3
   },
   "file_extension": ".py",
   "mimetype": "text/x-python",
   "name": "python",
   "nbconvert_exporter": "python",
   "pygments_lexer": "ipython3",
   "version": "3.6.8"
  }
 },
 "nbformat": 4,
 "nbformat_minor": 2
}
